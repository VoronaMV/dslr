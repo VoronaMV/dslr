{
 "cells": [
  {
   "cell_type": "code",
   "execution_count": 1,
   "metadata": {},
   "outputs": [],
   "source": [
    "import pandas as pd\n",
    "import numpy as np\n",
    "from matplotlib import pyplot as plt\n",
    "\n",
    "%matplotlib inline\n",
    "import seaborn as sns"
   ]
  },
  {
   "cell_type": "code",
   "execution_count": 2,
   "metadata": {},
   "outputs": [],
   "source": [
    "df_train = pd.read_csv('dataset_train.csv', index_col='Index')"
   ]
  },
  {
   "cell_type": "code",
   "execution_count": 3,
   "metadata": {},
   "outputs": [
    {
     "data": {
      "text/plain": [
       "<matplotlib.axes._subplots.AxesSubplot at 0x1282ea940>"
      ]
     },
     "execution_count": 3,
     "metadata": {},
     "output_type": "execute_result"
    },
    {
     "data": {
      "image/png": "[encoded data removed]",
      "text/plain": [
       "<Figure size 432x288 with 1 Axes>"
      ]
     },
     "metadata": {
      "needs_background": "light"
     },
     "output_type": "display_data"
    }
   ],
   "source": [
    "sns.heatmap(df_train.isnull(), yticklabels=False, cbar=False, cmap='viridis')"
   ]
  },
  {
   "cell_type": "code",
   "execution_count": 4,
   "metadata": {},
   "outputs": [
    {
     "ename": "NameError",
     "evalue": "name 'model_df' is not defined",
     "output_type": "error",
     "traceback": [
      "\u001b[0;31m--------------------------------------------------------------------\u001b[0m",
      "\u001b[0;31mNameError\u001b[0m                          Traceback (most recent call last)",
      "\u001b[0;32m<ipython-input-4-75d2cda35487>\u001b[0m in \u001b[0;36m<module>\u001b[0;34m\u001b[0m\n\u001b[0;32m----> 1\u001b[0;31m \u001b[0msns\u001b[0m\u001b[0;34m.\u001b[0m\u001b[0mcountplot\u001b[0m\u001b[0;34m(\u001b[0m\u001b[0mx\u001b[0m\u001b[0;34m=\u001b[0m\u001b[0;34m'house_int'\u001b[0m\u001b[0;34m,\u001b[0m \u001b[0mhue\u001b[0m\u001b[0;34m=\u001b[0m\u001b[0;34m'year'\u001b[0m\u001b[0;34m,\u001b[0m \u001b[0mdata\u001b[0m\u001b[0;34m=\u001b[0m\u001b[0mmodel_df\u001b[0m\u001b[0;34m.\u001b[0m\u001b[0mnumeric_df\u001b[0m\u001b[0;34m)\u001b[0m\u001b[0;34m\u001b[0m\u001b[0m\n\u001b[0m",
      "\u001b[0;31mNameError\u001b[0m: name 'model_df' is not defined"
     ]
    }
   ],
   "source": [
    "sns.countplot(x='house_int', hue='year', data=model_df.numeric_df)"
   ]
  },
  {
   "cell_type": "code",
   "execution_count": null,
   "metadata": {},
   "outputs": [],
   "source": [
    "df_train.describe()"
   ]
  },
  {
   "cell_type": "markdown",
   "metadata": {},
   "source": [
    "# Describe class"
   ]
  },
  {
   "cell_type": "code",
   "execution_count": null,
   "metadata": {},
   "outputs": [],
   "source": [
    "class Description:\n",
    "    indexes = ['count',\n",
    "#                'nan', 'Non nan',\n",
    "               'mean', 'std', 'min', '25%', '50%', '75%', 'max']\n",
    "    \n",
    "    def __init__(self, df: pd.DataFrame):\n",
    "        self.dataframe = df.copy()\n",
    "        self.numeric_df = self.dataframe._get_numeric_data()\n",
    "        self.clean_df = self.numeric_df.dropna(how='any', inplace=False)\n",
    "        self.numeric_features = list(self.numeric_df.columns)\n",
    "\n",
    "    def describe(self) -> pd.DataFrame:\n",
    "        descrtiption_df = pd.DataFrame(index=self.indexes, columns=self.numeric_features)\n",
    "        # MAKE NAN as bonus\n",
    "        descrtiption_df.loc['count', :] = self._count()\n",
    "        descrtiption_df.loc['mean', :] = self._mean()\n",
    "        descrtiption_df.loc['std', :] = self._std()\n",
    "        descrtiption_df.loc['min', :] = self._min()\n",
    "        descrtiption_df.loc['max', :] = self._max()\n",
    "        return descrtiption_df\n",
    "    \n",
    "    @staticmethod\n",
    "    def __filter_nan(df, feature) -> pd.Series:\n",
    "        not_null_indexes = df[feature].notnull()\n",
    "        filtered_series = df[feature][not_null_indexes]\n",
    "        return filtered_series\n",
    "        \n",
    "    def _count(self):\n",
    "        data = dict()\n",
    "        for feature in self.numeric_features:\n",
    "            not_null_values = self.numeric_df[feature].notnull()\n",
    "            data[feature] = len(self.numeric_df[not_null_values])\n",
    "#         data = {feature: len(self.numeric_df[self.numeric_df[feature].notnull()]) for feature in self.numeric_features}\n",
    "        return pd.Series(data=data)\n",
    "    \n",
    "    def _mean(self):\n",
    "        data = dict()\n",
    "        for feature in self.numeric_features:\n",
    "            filtered_series = self.__filter_nan(self.numeric_df, feature)\n",
    "            data[feature] = filtered_series.sum() / len(filtered_series)\n",
    "        return pd.Series(data=data)\n",
    "\n",
    "    @staticmethod\n",
    "    def __count_std(values: np.ndarray, mean):\n",
    "        std = (np.sum((values - mean) ** 2) / len(values)) ** 0.5\n",
    "        return std\n",
    "    \n",
    "    @staticmethod\n",
    "    def __count__min_max(values: np.ndarray) -> tuple:\n",
    "        values = values.copy()\n",
    "        values.sort()\n",
    "        _min, *_, _max = values\n",
    "        return _min, _max\n",
    "\n",
    "    def _std(self):\n",
    "        mean_series = self._mean()\n",
    "        data = dict()\n",
    "        for feature in self.numeric_features:\n",
    "            filtered_series = self.__filter_nan(self.numeric_df, feature)\n",
    "            data[feature] = self.__count_std(filtered_series.values, mean_series[feature])\n",
    "        return pd.Series(data=data)\n",
    "    \n",
    "    # TODO: Make _min, _max in one method\n",
    "    def _min(self):\n",
    "        data = dict()\n",
    "        for feature in self.numeric_features:\n",
    "            filtered_series = self.__filter_nan(self.numeric_df, feature)\n",
    "            data[feature], _ = self.__count__min_max(filtered_series.values)\n",
    "        return pd.Series(data=data)\n",
    "    \n",
    "    def _max(self):\n",
    "        data = dict()\n",
    "        for feature in self.numeric_features:\n",
    "            filtered_series = self.__filter_nan(self.numeric_df, feature)\n",
    "            _, data[feature] = self.__count__min_max(filtered_series.values)\n",
    "        return pd.Series(data=data)"
   ]
  },
  {
   "cell_type": "code",
   "execution_count": null,
   "metadata": {},
   "outputs": [],
   "source": [
    "description = Description(df_train)\n",
    "description.describe()"
   ]
  },
  {
   "cell_type": "code",
   "execution_count": null,
   "metadata": {},
   "outputs": [],
   "source": []
  },
  {
   "cell_type": "code",
   "execution_count": null,
   "metadata": {},
   "outputs": [],
   "source": [
    "df_train['year'] = df_train['Birthday'].apply(lambda x: int(x.split('-')[0]))\n",
    "df_train['year'] = df_train['year'] - df_train['year'].min()\n",
    "df_train.head()"
   ]
  },
  {
   "cell_type": "code",
   "execution_count": null,
   "metadata": {},
   "outputs": [],
   "source": [
    "houses = df_train['Hogwarts House'].unique().tolist()\n",
    "def classify_house(house_name):\n",
    "    return houses.index(house_name)\n",
    "\n",
    "hands = df_train['Best Hand'].unique().tolist()\n",
    "def classify_hand(hand_name):\n",
    "    return hands.index(hand_name)"
   ]
  },
  {
   "cell_type": "code",
   "execution_count": null,
   "metadata": {},
   "outputs": [],
   "source": [
    "plt.scatter(df_train['Astronomy'], df_train['Defense Against the Dark Arts'])\n",
    "plt.xlabel('Astronomy')\n",
    "plt.ylabel('Defense Against the Dark Arts')\n",
    "plt.show()"
   ]
  },
  {
   "cell_type": "markdown",
   "metadata": {},
   "source": [
    "# Create scatter (pair plot) plot"
   ]
  },
  {
   "cell_type": "code",
   "execution_count": null,
   "metadata": {},
   "outputs": [],
   "source": [
    "df_train['house_int'] = df_train['Hogwarts House'].apply(classify_house)\n",
    "df_train['hand_int'] = df_train['Best Hand'].apply(classify_hand)\n",
    "plot_df = df_train._get_numeric_data().dropna(how='any', inplace=False)\n",
    "\n",
    "\n",
    "colors_dict = {0: 'blue', 1: 'red', 2: 'purple', 3: 'green'}\n",
    "colors = plot_df['house_int'].map(lambda x: colors_dict.get(x))\n",
    "pd.plotting.scatter_matrix(plot_df, figsize=(40,40), color=colors)"
   ]
  },
  {
   "cell_type": "markdown",
   "metadata": {},
   "source": [
    "### Looking to the scatter plot above we can make next decissions:\n",
    "    1. Astronomy and Defence Against the Dark Arts have strong correlation. So we have to use only one of this features.\n",
    "    2. Arithmacy and Care of Magical Creatures don't infuence on separating students between houses. So we don't need to use this features in our model.\n",
    "    3. I'm not very confident about indluence of \"Hand\" feature. Try to build model with this feature and without it."
   ]
  },
  {
   "cell_type": "code",
   "execution_count": null,
   "metadata": {},
   "outputs": [],
   "source": [
    "def plot_cource_distribution(df):\n",
    "    fig, axes = plt.subplots()\n",
    "    years = df['year'].unique()\n",
    "    for year in years:\n",
    "        one_year_df = df[df['year'] == year]\n",
    "        plt.bar(one_year_df['Hogwarts House'], one_year_df['First Name'])\n",
    "        plt.title('Course-' + str(year))\n",
    "        plt.xlabel('Houses')\n",
    "        plt.ylabel('Students')\n",
    "        plt.show()"
   ]
  },
  {
   "cell_type": "code",
   "execution_count": null,
   "metadata": {},
   "outputs": [],
   "source": [
    "plot_cource_distribution(cources_df)"
   ]
  },
  {
   "cell_type": "markdown",
   "metadata": {},
   "source": [
    "# Linear regression part"
   ]
  },
  {
   "cell_type": "code",
   "execution_count": 6,
   "metadata": {},
   "outputs": [],
   "source": [
    "class FrameHandler:\n",
    "    \n",
    "    @classmethod\n",
    "    def cut_features(cls, df: pd.DataFrame, features=[]) -> pd.DataFrame:\n",
    "        return df.drop(columns=features, inplace=False)\n",
    "    \n",
    "    @classmethod\n",
    "    def normalize_data(cls, df: pd.DataFrame, columns=[]) -> pd.DataFrame:\n",
    "        normalized_df = df.copy()    \n",
    "        if columns:\n",
    "            normalized_df[columns] = cls.__normalize(normalized_df[columns])\n",
    "        else:\n",
    "            normalized_df = cls.normalize(__normalized_df)\n",
    "        return normalized_df\n",
    "    \n",
    "    @classmethod\n",
    "    def __normalize(df):\n",
    "        return (df - df.min()) / (df.max() - df.min())\n",
    "    \n",
    "    "
   ]
  },
  {
   "cell_type": "code",
   "execution_count": null,
   "metadata": {},
   "outputs": [],
   "source": [
    "class LogisticRegression:\n",
    "    \n",
    "    \n",
    "    # Right -> Right=1 hand is the best, otherwise Right=0\n",
    "    def __init__(self, dataframe):\n",
    "        self.initial_df = dataframe.copy()\n",
    "        self.houses = dataframe['Hogwarts House'].unique().tolist()\n",
    "#         self.hands = df_train['Best Hand'].unique().tolist()\n",
    "        \n",
    "        right_hand = pd.get_dummies(dataframe['Best Hand'], drop_first=True)\n",
    "        self.initial_df = pd.concat([self.initial_df, right_hand], axis=1)\n",
    "        \n",
    "        self.numeric_df = self.initial_df._get_numeric_data()\n",
    "        self.numeric_df['year'] = df_train['Birthday'].apply(lambda x: int(x.split('-')[0]))\n",
    "        self.numeric_df['year'] = self.numeric_df['year'] - self.numeric_df['year'].min()\n",
    "        self.numeric_df['house_int'] = df_train['Hogwarts House'].apply(self._classify_house)\n",
    "        \n",
    "        # We should drop na values in rows\n",
    "        self.numeric_df.dropna(how='any', inplace=True)\n",
    "        \n",
    "        \n",
    "    def _classify_house(self, house_name):\n",
    "        return self.houses.index(house_name)\n",
    "\n",
    "    \n",
    "    @staticmethod\n",
    "    def sigmoid(z):\n",
    "        # hθ(x)=g(θTx)\n",
    "        # g(z)=1 / (1 + e−z)\n",
    "        return 1 / (1 + np.exp(-z))\n",
    "    \n",
    "#     def gradient_step(self, learning_rate: float, loss: np.ndarray, rows: int, X: np.ndarray) -> np.ndarray:\n",
    "#         s = X.T.dot(loss)\n",
    "#         delta_W = 2 * (learning_rate * s / rows)\n",
    "#         return self.W - delta_W\n",
    "    \n",
    "    def cost_gradient(theta, X, y):\n",
    "        predictions = self.sigmoid(X @ theta)\n",
    "        return X.T @ (predictions - y) / len(y)\n",
    "    \n",
    "    def cost(self, theta, X, y):\n",
    "        predictions = self.sigmoid(X @ theta)\n",
    "        predictions[predictions == 1] = 0.999\n",
    "        error = -y * np.log(predictions) - (1 - y) * np.log(1 - predictions)\n",
    "        return sum(error) / len(y)\n",
    "    \n",
    "    @staticmethod\n",
    "    def gradient_algorithm(cost: callable, initial_theta, cost_gradient, X, y):\n",
    "        \"\"\"\n",
    "        Minimize a function using a gradient algorithm.\n",
    "        return: Vector of result weights for the model \n",
    "        \"\"\"\n",
    "        # TODO: Gradient algorithm should be implemented\n",
    "        pass\n",
    "    "
   ]
  },
  {
   "cell_type": "code",
   "execution_count": null,
   "metadata": {},
   "outputs": [],
   "source": []
  },
  {
   "cell_type": "code",
   "execution_count": null,
   "metadata": {},
   "outputs": [],
   "source": [
    "from sklearn.linear_model import LogisticRegression\n",
    "\n",
    "df_ = df_train.dropna(how='any', inplace=False)\n",
    "model = LogisticRegression()\n",
    "model.fit(df_.drop(columns='Defense Against the Dark Arts')._get_numeric_data(), df_['house_int'])\n"
   ]
  },
  {
   "cell_type": "code",
   "execution_count": null,
   "metadata": {},
   "outputs": [],
   "source": [
    "model.score(df_.drop(columns='Defense Against the Dark Arts')._get_numeric_data(), df_['house_int'])"
   ]
  },
  {
   "cell_type": "code",
   "execution_count": null,
   "metadata": {},
   "outputs": [],
   "source": []
  }
 ],
 "metadata": {
  "kernelspec": {
   "display_name": "Python 3",
   "language": "python",
   "name": "python3"
  },
  "language_info": {
   "codemirror_mode": {
    "name": "ipython",
    "version": 3
   },
   "file_extension": ".py",
   "mimetype": "text/x-python",
   "name": "python",
   "nbconvert_exporter": "python",
   "pygments_lexer": "ipython3",
   "version": "3.6.2"
  }
 },
 "nbformat": 4,
 "nbformat_minor": 2
}
